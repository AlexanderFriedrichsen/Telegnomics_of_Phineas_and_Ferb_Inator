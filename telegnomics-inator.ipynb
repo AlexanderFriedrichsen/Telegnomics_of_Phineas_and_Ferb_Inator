{
  "cells": [
    {
      "cell_type": "code",
      "execution_count": 20,
      "metadata": {
        "id": "HilpcBXDp_RY"
      },
      "outputs": [],
      "source": [
        "import re\n",
        "import pandas as pd\n",
        "import matplotlib.pyplot as plt\n",
        "import seaborn as sns\n",
        "import os"
      ]
    },
    {
      "cell_type": "code",
      "execution_count": 16,
      "metadata": {
        "id": "_Lj7pnRIBfg8"
      },
      "outputs": [],
      "source": [
        "season_one = \"transcripts/season_1\"\n",
        "season_two = \"transcripts/season_2\"\n",
        "season_three = \"transcripts/season_3\"\n",
        "season_four = \"transcripts/season_4\"\n",
        "\n",
        "season_one_contents = \"\"\n",
        "for file in os.listdir(season_one):\n",
        "    with open(season_one + \"/\" +file, encoding=\"utf8\") as file:\n",
        "        episode_contents = file.read()\n",
        "        season_one_contents += episode_contents\n",
        "\n",
        "season_two_contents = \"\"\n",
        "for file in os.listdir(season_two):\n",
        "    with open(season_two + \"/\" +file, encoding=\"utf8\") as file:\n",
        "        episode_contents = file.read()\n",
        "        season_two_contents += episode_contents\n",
        "\n",
        "season_three_contents = \"\"\n",
        "for file in os.listdir(season_three):\n",
        "    with open(season_three + \"/\" +file, encoding=\"utf8\") as file:\n",
        "        episode_contents = file.read()\n",
        "        season_three_contents += episode_contents\n",
        "\n",
        "season_four_contents = \"\"\n",
        "for file in os.listdir(season_four):\n",
        "    with open(season_four + \"/\" +file, encoding=\"utf8\") as file:\n",
        "        episode_contents = file.read()\n",
        "        season_four_contents += episode_contents\n",
        "\n",
        "full_transcript = season_one_contents + season_two_contents + season_three_contents + season_four_contents\n"
      ]
    },
    {
      "cell_type": "markdown",
      "metadata": {
        "id": "GexssHsIi9s-"
      },
      "source": [
        "The length of words_split_on_whitespace is 651461."
      ]
    },
    {
      "cell_type": "code",
      "execution_count": 17,
      "metadata": {
        "id": "PVIuGuhwEJPR"
      },
      "outputs": [
        {
          "data": {
            "text/plain": [
              "651461"
            ]
          },
          "execution_count": 17,
          "metadata": {},
          "output_type": "execute_result"
        }
      ],
      "source": [
        "full_lower = full_transcript.lower()\n",
        "\n",
        "words_split_on_whitespace = full_lower.split()\n",
        "len(words_split_on_whitespace)\n",
        "\n"
      ]
    },
    {
      "cell_type": "code",
      "execution_count": 18,
      "metadata": {
        "id": "MUk9nEUV7MES"
      },
      "outputs": [],
      "source": [
        "#rename for ease of coding\n",
        "s1 = season_one_contents\n",
        "s2 = season_two_contents\n",
        "s3 = season_three_contents\n",
        "s4 = season_four_contents\n",
        "\n",
        "s1_l = s1.lower()\n",
        "s2_l = s2.lower()\n",
        "s3_l = s3.lower()\n",
        "s4_l = s4.lower()"
      ]
    },
    {
      "cell_type": "markdown",
      "metadata": {
        "id": "otDsrWJwdRBL"
      },
      "source": [
        "The length of vector_book is 418816 (for part 1a of the assignment). The test_string is the contents of the book with spaces around punctuation but without being turned into a list."
      ]
    },
    {
      "cell_type": "code",
      "execution_count": 21,
      "metadata": {
        "id": "DwzuEQNrawEa"
      },
      "outputs": [],
      "source": [
        "punc_list = [\"!\",\"&\",\".\",\"?\",\",\",\"-\",\"——\",\"(\",\")\",\"~\",\"—\"]\n",
        "\n",
        "def pad_punctuation(text):\n",
        "  test_string = text\n",
        "  for punc in punc_list:\n",
        "    test_string = re.sub(re.escape(punc),\" \"+punc+\" \",test_string)\n",
        "  return test_string.split()\n",
        "\n",
        "vector_full = pad_punctuation(full_transcript)"
      ]
    },
    {
      "cell_type": "code",
      "execution_count": null,
      "metadata": {
        "id": "QtVI6f7vzMBq"
      },
      "outputs": [],
      "source": [
        "ppv1 = pad_punctuation(ppv1)\n",
        "ppv2 = pad_punctuation(ppv2)\n",
        "ppv3 = pad_punctuation(ppv3)\n",
        "#ch17 = pad_punctuation(ch17)"
      ]
    },
    {
      "cell_type": "code",
      "execution_count": null,
      "metadata": {
        "id": "fos8Czr9ScNy"
      },
      "outputs": [],
      "source": [
        "from collections import Counter\n",
        "counted = Counter(vector_book)"
      ]
    },
    {
      "cell_type": "code",
      "execution_count": null,
      "metadata": {
        "id": "PjzTxAEx9Wue"
      },
      "outputs": [],
      "source": [
        "import json\n",
        "with open(\"counted.json\", 'w') as f:\n",
        "    json.dump(counted, f, indent=4, sort_keys=True, ensure_ascii=False)"
      ]
    },
    {
      "cell_type": "code",
      "execution_count": null,
      "metadata": {
        "colab": {
          "base_uri": "https://localhost:8080/",
          "height": 265
        },
        "id": "9UkshaHL69RJ",
        "outputId": "81e54f91-0597-4e4e-aa6f-54329075a0c0"
      },
      "outputs": [
        {
          "data": {
            "image/png": "[encoded data removed]",
            "text/plain": [
              "<Figure size 432x288 with 1 Axes>"
            ]
          },
          "metadata": {
            "needs_background": "light"
          },
          "output_type": "display_data"
        }
      ],
      "source": [
        "sorted_char_names = list(counted.values())\n",
        "sorted_char_names.sort(reverse=True)\n",
        "fig = plt.figure()\n",
        "ax = plt.gca()\n",
        "ax.scatter(x=range(len(counted.values())),y=sorted_char_names)\n",
        "ax.set_yscale('log')\n",
        "#ax.set_xscale('log')\n",
        "#plt.hist(sorted_char_names)\n",
        "plt.show()"
      ]
    },
    {
      "cell_type": "code",
      "execution_count": null,
      "metadata": {
        "id": "i9KJFhksLk0D"
      },
      "outputs": [],
      "source": [
        "\n",
        "counted_ppv1 = Counter(ppv1)\n",
        "counted_ppv2 = Counter(ppv2)\n",
        "counted_ppv3 = Counter(ppv3)\n",
        "#counted_ch17 = Counter(ch17)\n",
        "\n",
        "v1v2 = Counter(ppv1+ppv2)\n",
        "v2v3 = Counter(ppv2+ppv3)\n",
        "v1v3 = Counter(ppv1+ppv3)"
      ]
    },
    {
      "cell_type": "code",
      "execution_count": null,
      "metadata": {
        "id": "fIBXIpKkMLyU"
      },
      "outputs": [],
      "source": [
        "prefixes = [\"mr.\", \"mrs.\", \"ms.\", \"dr.\", \"mme.\", \"rev.\", \"lt.\", \"col.\",\n",
        "            \"hon.\", \"st.\"]\n",
        "\n",
        "def pad_prefixes(some_text, prefix_list):\n",
        "    for prefix in prefixes:\n",
        "        some_text = re.sub(re.escape(prefix),prefix[:-1],some_text)\n",
        "    return some_text\n",
        "\n",
        "text = book\n",
        "text = pad_prefixes(text, prefixes)\n",
        "#documents = text.split(r'.')\n",
        "documents = re.split(r'(\\.|\\!|\\?)', text)"
      ]
    },
    {
      "cell_type": "code",
      "execution_count": null,
      "metadata": {
        "id": "pA1nuNI_VfKb"
      },
      "outputs": [],
      "source": [
        "chapters = re.split(r'chapter', text)"
      ]
    },
    {
      "cell_type": "code",
      "execution_count": null,
      "metadata": {
        "colab": {
          "base_uri": "https://localhost:8080/"
        },
        "id": "Yvj6gudAv9Rf",
        "outputId": "a6ef2a78-a49a-4425-a061-39e60e188ec1"
      },
      "outputs": [
        {
          "data": {
            "text/plain": [
              "62"
            ]
          },
          "execution_count": 30,
          "metadata": {},
          "output_type": "execute_result"
        }
      ],
      "source": [
        "len(chapters)"
      ]
    },
    {
      "cell_type": "code",
      "execution_count": null,
      "metadata": {
        "id": "_oN9talrgfw1"
      },
      "outputs": [],
      "source": [
        "counted"
      ]
    },
    {
      "cell_type": "markdown",
      "metadata": {
        "id": "4jbUhkjYeKTL"
      },
      "source": [
        "### PDS \n",
        "We'll need something to use as a happiness score. I think I can use valence, or maybe goodness, from Dodds' word list."
      ]
    },
    {
      "cell_type": "code",
      "execution_count": null,
      "metadata": {
        "id": "8pp46MUdeJoP"
      },
      "outputs": [],
      "source": [
        "word_df = pd.read_csv(\"http://pdodds.w3.uvm.edu/permanent-share/ousiometry_data.txt\", sep=\"\\t\")"
      ]
    },
    {
      "cell_type": "code",
      "execution_count": null,
      "metadata": {
        "id": "fqZtEVNEj7-R"
      },
      "outputs": [],
      "source": [
        "with open('zipf_case_sens.txt', 'a') as the_file:\n",
        "    for word in word_df[\"word\"]:\n",
        "      if word in set(counted.keys()):\n",
        "        the_file.write(str(counted[word])+\"\\n\")\n",
        "        #the_file.write(str(1)+\"\\n\")\n",
        "      else:\n",
        "        the_file.write(str(0)+\"\\n\")"
      ]
    },
    {
      "cell_type": "code",
      "execution_count": null,
      "metadata": {
        "id": "yx-P_vang0Yf"
      },
      "outputs": [],
      "source": [
        "shared_words_pds = list(set(list(word_df[\"word\"])).intersection(set(vector_book)))\n",
        "\n",
        "backwards_word_dict_pds = word_df[\"word\"].to_dict()\n",
        "word_dict = {y:x for x,y in backwards_word_dict_pds.items()}\n",
        "\n",
        "valence_score_dict = {x: word_df[\"valence\"][word_dict[x]] for x in shared_words_pds}\n",
        "goodness_score_dict = {x: word_df[\"goodness\"][word_dict[x]] for x in shared_words_pds}\n",
        "energy_score_dict = {x: word_df[\"energy\"][word_dict[x]] for x in shared_words_pds}\n",
        "power_score_dict = {x: word_df[\"power\"][word_dict[x]] for x in shared_words_pds}\n",
        "danger_score_dict = {x: word_df[\"danger\"][word_dict[x]] for x in shared_words_pds}\n",
        "structure_score_dict = {x: word_df[\"structure\"][word_dict[x]] for x in shared_words_pds}"
      ]
    },
    {
      "cell_type": "code",
      "execution_count": null,
      "metadata": {
        "id": "3J-2sEGjq65W"
      },
      "outputs": [],
      "source": [
        "shared_words_pds = list(set(list(word_df[\"word\"])).intersection(set(vector_book)))"
      ]
    },
    {
      "cell_type": "code",
      "execution_count": null,
      "metadata": {
        "colab": {
          "base_uri": "https://localhost:8080/"
        },
        "id": "nd07HhGRq8hq",
        "outputId": "c1544baf-5fea-41db-fac4-66d0579da02b"
      },
      "outputs": [
        {
          "data": {
            "text/plain": [
              "0.18139558132560232"
            ]
          },
          "execution_count": 9,
          "metadata": {},
          "output_type": "execute_result"
        }
      ],
      "source": [
        "len(shared_words_pds)/len(list(word_df[\"word\"]))"
      ]
    },
    {
      "cell_type": "markdown",
      "metadata": {
        "id": "JdIdpd6ays-o"
      },
      "source": [
        "### Happiness via labMT\n",
        "I found a link to the labMT dataset online, then saved that file locally as labmt.txt so I could delete the headers."
      ]
    },
    {
      "cell_type": "code",
      "execution_count": null,
      "metadata": {
        "id": "7EN_lMkoea1W"
      },
      "outputs": [],
      "source": [
        "labmt_word_df = pd.read_csv(\"labmt.txt\",sep=\"\\t\")"
      ]
    },
    {
      "cell_type": "code",
      "execution_count": null,
      "metadata": {
        "id": "vmys0TH-yA0A"
      },
      "outputs": [],
      "source": [
        "shared_words = list(set(list(labmt_word_df[\"word\"])).intersection(set(vector_book)))\n",
        "\n",
        "backwards_word_dict = labmt_word_df[\"word\"].to_dict()\n",
        "word_dict = {y:x for x,y in backwards_word_dict.items()}\n",
        "\n",
        "happiness_score_dict = {x: labmt_word_df[\"happiness_average\"][word_dict[x]] for x in shared_words}"
      ]
    },
    {
      "cell_type": "code",
      "execution_count": null,
      "metadata": {
        "colab": {
          "base_uri": "https://localhost:8080/"
        },
        "id": "55WlHucOmmcT",
        "outputId": "c6012751-66c3-4159-964d-54916d799f9a"
      },
      "outputs": [
        {
          "data": {
            "text/plain": [
              "3222"
            ]
          },
          "execution_count": 13,
          "metadata": {},
          "output_type": "execute_result"
        }
      ],
      "source": [
        "len(shared_words)"
      ]
    },
    {
      "cell_type": "markdown",
      "metadata": {
        "id": "XPssAF_tni4l"
      },
      "source": [
        "### Happiness Time Series"
      ]
    },
    {
      "cell_type": "markdown",
      "metadata": {
        "id": "Bmv5z4aBwiRo"
      },
      "source": [
        "Now to make happiness time series with various size text windows."
      ]
    },
    {
      "cell_type": "code",
      "execution_count": null,
      "metadata": {
        "id": "Y2FFsMudzZ4X"
      },
      "outputs": [],
      "source": [
        "#vector_book\n",
        "\n",
        "def step_window(sample_text, dicti):\n",
        "  #T_list = [10**1, 10**1.5, 10**2, 10**2.5, 10**3, 10**3.5, 10**4]\n",
        "  T_list = [2*10**3]\n",
        "  d_list = [0.5, 1, 1.5, 2, 2.5, 3, 3.5, 4]\n",
        "  all_window_happiness = []\n",
        "\n",
        "  x_values_list = []\n",
        "\n",
        "  d = d_list[1]\n",
        "  for T in T_list:\n",
        "    T = round(T)\n",
        "    start_window = 0\n",
        "    stop_window = start_window + T\n",
        "\n",
        "    #emergency_quit = 0\n",
        "    window_happinesses = []\n",
        "    x_values = []\n",
        "\n",
        "    while start_window < len(sample_text): #or emergency_quit > 10*3:\n",
        "      window = sample_text[start_window:stop_window]\n",
        "      #print(window)\n",
        "\n",
        "      happiness_scores = [dicti[w] for w in window if w in dicti.keys()]\n",
        "      happiness_scores = [x for x in happiness_scores if abs(x - 5.0) > d]\n",
        "      #print(happiness_scores)\n",
        "      if len(happiness_scores) > 0:\n",
        "        avg_happiness = sum(happiness_scores)/len(happiness_scores)\n",
        "      else:\n",
        "        # sometimes there are no words to score in the window, so for now just use the theoretical average\n",
        "        pass\n",
        "      window_happinesses.append(avg_happiness)\n",
        "      if stop_window < len(sample_text):\n",
        "        x_values.append(stop_window)\n",
        "      else:\n",
        "        x_values.append(len(sample_text))\n",
        "\n",
        "      start_window += 1\n",
        "      stop_window = start_window + T\n",
        "      mid_point = round((stop_window + start_window)/2.0)\n",
        "      #emergency_quit += 1\n",
        "    if stop_window < len(sample_text):\n",
        "      window = sample_text[stop_window:]\n",
        "      last_happiness = [dicti[w] for w in window if w in dicti.keys()]\n",
        "      if len(happiness_scores) > 0:\n",
        "        avg_happiness = sum(happiness_scores)/len(happiness_scores)\n",
        "      else:\n",
        "        # sometimes there are no words to score in the window, so for now just use the theoretical average\n",
        "        pass\n",
        "      window_happinesses.append(avg_happiness)\n",
        "      x_values.append(mid_point)\n",
        "\n",
        "    all_window_happiness.append(window_happinesses)\n",
        "    x_values_list.append(x_values)\n",
        "    x_values_list = x_values_list[0][:-1]\n",
        "    all_window_happiness = all_window_happiness[0][:-1]\n",
        "    return x_values_list, all_window_happiness"
      ]
    },
    {
      "cell_type": "code",
      "execution_count": null,
      "metadata": {
        "id": "JOiQb1dDnxl3"
      },
      "outputs": [],
      "source": [
        "x_values_list_energy, all_window_energy = step_window(vector_book, energy_score_dict)\n",
        "x_values_list_goodness, all_window_goodness = step_window(vector_book, goodness_score_dict)\n",
        "x_values_list_power, all_window_power = step_window(vector_book, power_score_dict)\n",
        "x_values_list_danger, all_window_danger = step_window(vector_book, danger_score_dict)\n",
        "x_values_list_structure, all_window_structure = step_window(vector_book, structure_score_dict)"
      ]
    },
    {
      "cell_type": "code",
      "execution_count": null,
      "metadata": {
        "id": "H0Jsl-TUt2FG"
      },
      "outputs": [],
      "source": [
        "x_values_list_energy = [x_values_list_energy[0][:-10]]\n",
        "all_window_energy = [all_window_energy[0][:-10]]\n",
        "x_values_list_goodness = [x_values_list_goodness[0][:-10]]\n",
        "all_window_goodness = [all_window_goodness[0][:-10]]\n",
        "x_values_list_power = [x_values_list_power[0][:-10]]\n",
        "all_window_power = [all_window_power[0][:-10]]\n",
        "x_values_list_danger = [x_values_list_danger[0][:-10]]\n",
        "all_window_danger = [all_window_danger[0][:-10]]\n",
        "x_values_list_structure = [x_values_list_structure[0][:-10]]\n",
        "all_window_structure = [all_window_structure[0][:-10]]"
      ]
    },
    {
      "cell_type": "code",
      "execution_count": null,
      "metadata": {
        "colab": {
          "base_uri": "https://localhost:8080/",
          "height": 269
        },
        "id": "SCELh4DV1ITV",
        "outputId": "faee48f1-3964-4828-e13f-858e67c0f806"
      },
      "outputs": [
        {
          "data": {
            "image/png": "[encoded data removed]",
            "text/plain": [
              "<Figure size 432x288 with 1 Axes>"
            ]
          },
          "metadata": {
            "needs_background": "light"
          },
          "output_type": "display_data"
        }
      ],
      "source": [
        "\n",
        "ax = plt.gca()\n",
        "for i in range(len(all_window_energy)):\n",
        "  line1, = ax.plot(x_values_list_energy[i],all_window_energy[i], label=\"Energy\")\n",
        "  line2, = ax.plot(x_values_list_goodness[i],all_window_goodness[i], label=\"Goodness\")\n",
        "  line3, = ax.plot(x_values_list_power[i],all_window_power[i], label=\"Power\")\n",
        "  line4, = ax.plot(x_values_list_danger[i],all_window_danger[i], label=\"Danger\")\n",
        "  line5, = ax.plot(x_values_list_structure[i],all_window_structure[i], label=\"Structure\")\n",
        "ax.set_ylim([-0.3, 0.4])\n",
        "ax.legend(handles=[line1, line2, line3, line4, line5])\n",
        "plt.show()"
      ]
    },
    {
      "cell_type": "code",
      "execution_count": null,
      "metadata": {
        "colab": {
          "base_uri": "https://localhost:8080/"
        },
        "id": "1fRXqnw7iX5R",
        "outputId": "7e39e01e-373b-4387-815d-0de1be414b10"
      },
      "outputs": [
        {
          "data": {
            "text/plain": [
              "143049"
            ]
          },
          "execution_count": 35,
          "metadata": {},
          "output_type": "execute_result"
        }
      ],
      "source": [
        "len(x_values_list_energy[0])"
      ]
    },
    {
      "cell_type": "markdown",
      "metadata": {
        "id": "XOe8oBCHnwy2"
      },
      "source": [
        "### Word shifts"
      ]
    },
    {
      "cell_type": "code",
      "execution_count": null,
      "metadata": {
        "colab": {
          "base_uri": "https://localhost:8080/"
        },
        "id": "2ZUZnmblnqRU",
        "outputId": "89eced7c-78cd-4a64-b3f6-c4a7955a68aa"
      },
      "outputs": [
        {
          "name": "stdout",
          "output_type": "stream",
          "text": [
            "Collecting shifterator\n",
            "  Downloading shifterator-0.3.0-py3-none-any.whl (40.4 MB)\n",
            "\u001b[K     |████████████████████████████████| 40.4 MB 1.3 MB/s \n",
            "\u001b[?25hRequirement already satisfied: matplotlib in /usr/local/lib/python3.7/dist-packages (from shifterator) (3.2.2)\n",
            "Requirement already satisfied: numpy in /usr/local/lib/python3.7/dist-packages (from shifterator) (1.21.5)\n",
            "Requirement already satisfied: cycler>=0.10 in /usr/local/lib/python3.7/dist-packages (from matplotlib->shifterator) (0.11.0)\n",
            "Requirement already satisfied: kiwisolver>=1.0.1 in /usr/local/lib/python3.7/dist-packages (from matplotlib->shifterator) (1.4.0)\n",
            "Requirement already satisfied: python-dateutil>=2.1 in /usr/local/lib/python3.7/dist-packages (from matplotlib->shifterator) (2.8.2)\n",
            "Requirement already satisfied: pyparsing!=2.0.4,!=2.1.2,!=2.1.6,>=2.0.1 in /usr/local/lib/python3.7/dist-packages (from matplotlib->shifterator) (3.0.7)\n",
            "Requirement already satisfied: typing-extensions in /usr/local/lib/python3.7/dist-packages (from kiwisolver>=1.0.1->matplotlib->shifterator) (3.10.0.2)\n",
            "Requirement already satisfied: six>=1.5 in /usr/local/lib/python3.7/dist-packages (from python-dateutil>=2.1->matplotlib->shifterator) (1.15.0)\n",
            "Installing collected packages: shifterator\n",
            "Successfully installed shifterator-0.3.0\n"
          ]
        }
      ],
      "source": [
        "# Install shifterator\n",
        "!pip install shifterator"
      ]
    },
    {
      "cell_type": "code",
      "execution_count": null,
      "metadata": {
        "id": "fZNVNE2Eovyy"
      },
      "outputs": [],
      "source": [
        "import shifterator as sh"
      ]
    },
    {
      "cell_type": "markdown",
      "metadata": {
        "id": "5uOjPkUBp-ci"
      },
      "source": [
        "According to the docs, we need two dictionaries of 1-grams : frequency"
      ]
    },
    {
      "cell_type": "code",
      "execution_count": null,
      "metadata": {
        "id": "5Gsf-osvo1p-"
      },
      "outputs": [],
      "source": [
        "midpoint = int(len(vector_book)/2)\n",
        "vol1_dict = Counter(vector_book[:midpoint])\n",
        "vol2_dict = Counter(vector_book[midpoint:])\n"
      ]
    },
    {
      "cell_type": "code",
      "execution_count": null,
      "metadata": {
        "colab": {
          "base_uri": "https://localhost:8080/"
        },
        "id": "0s-3N00e8iJL",
        "outputId": "bb530e7a-d7f4-4517-df5d-7278637587b3"
      },
      "outputs": [
        {
          "data": {
            "text/plain": [
              "True"
            ]
          },
          "execution_count": 71,
          "metadata": {},
          "output_type": "execute_result"
        }
      ],
      "source": [
        "counted == counted_ch17"
      ]
    },
    {
      "cell_type": "code",
      "execution_count": null,
      "metadata": {
        "id": "LEykk4P3q1wP"
      },
      "outputs": [],
      "source": [
        "proportion_shift = sh.ProportionShift(type2freq_1=counted,\n",
        "                                      type2freq_2=counted_ch17)\n",
        "proportion_shift.get_shift_graph(system_names = ['Whole Book', 'Vol. 2 Ch. 17'],\n",
        "                                 title='Proportion Shift')"
      ]
    },
    {
      "cell_type": "code",
      "execution_count": null,
      "metadata": {
        "id": "Zq_ujUe-sI9e"
      },
      "outputs": [],
      "source": [
        "sentiment_shift = sh.WeightedAvgShift(type2freq_1=counted,\n",
        "                                      type2freq_2=counted_ch17,\n",
        "                                      type2score_1='labMT_English',\n",
        "                                      reference_value=5.98,\n",
        "                                      stop_lens=[(4,6)])\n",
        "\n",
        "sentiment_shift.get_shift_graph(detailed=True,\n",
        "                                system_names=['Whole book', 'Vol. 2 Ch. 17'])"
      ]
    }
  ],
  "metadata": {
    "colab": {
      "collapsed_sections": [
        "4jbUhkjYeKTL"
      ],
      "name": "csys303assignment19.ipynb",
      "provenance": []
    },
    "kernelspec": {
      "display_name": "Python 3",
      "name": "python3"
    },
    "language_info": {
      "codemirror_mode": {
        "name": "ipython",
        "version": 3
      },
      "file_extension": ".py",
      "mimetype": "text/x-python",
      "name": "python",
      "nbconvert_exporter": "python",
      "pygments_lexer": "ipython3",
      "version": "3.9.7"
    }
  },
  "nbformat": 4,
  "nbformat_minor": 0
}
